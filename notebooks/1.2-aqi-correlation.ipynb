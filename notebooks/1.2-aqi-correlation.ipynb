{
 "cells": [
  {
   "cell_type": "markdown",
   "id": "4c921f98-b99d-4c95-9be4-bcfd939ba3f5",
   "metadata": {},
   "source": [
    "# Comparing Neighborhood AQI to EPA AirNow"
   ]
  },
  {
   "cell_type": "code",
   "execution_count": 1,
   "id": "ccb751b0-4f9c-45b4-9663-d61c060402cf",
   "metadata": {},
   "outputs": [],
   "source": [
    "# import libraries\n",
    "import os\n",
    "from datetime import datetime, timedelta\n",
    "import matplotlib.pyplot as plt\n",
    "import matplotlib.dates as mdates\n",
    "import matplotlib.ticker as plticker\n",
    "from matplotlib.lines import Line2D\n",
    "import numpy as np\n",
    "import pandas as pd\n",
    "import seaborn as sns\n",
    "\n",
    "# set working directory to root level\n",
    "os.chdir('..')"
   ]
  },
  {
   "cell_type": "code",
   "execution_count": null,
   "id": "623672f7-7717-4ee6-b28c-85c9018c2ad2",
   "metadata": {},
   "outputs": [],
   "source": [
    "def lower_and_underscore(s):\n",
    "    '''Cleans up text by'''\n",
    "    return str(s).strip().lower().replace(' ','_')\n",
    "\n",
    "def import_archive_data(fname, season):\n",
    "    df = pd.read_csv(fname)\n",
    "    df['season'] = season\n",
    "    df.columns = df.columns.to_series().apply(lower_and_underscore)\n",
    "    return df"
   ]
  },
  {
   "cell_type": "markdown",
   "id": "6f6c17fe-f235-4574-9419-3ad283ab3619",
   "metadata": {},
   "source": [
    "## Import PurpleAir and AirNow Data"
   ]
  },
  {
   "cell_type": "code",
   "execution_count": 5,
   "id": "ece05f61-fdba-47ac-ad5d-e41e727b9b11",
   "metadata": {},
   "outputs": [],
   "source": [
    "# define seasons that will be explored, based on \n",
    "seasons = ['summer', 'autumn']"
   ]
  },
  {
   "cell_type": "code",
   "execution_count": 2,
   "id": "f06a3f98-f4af-41ff-9cf5-301fb29ceb96",
   "metadata": {},
   "outputs": [
    {
     "data": {
      "text/plain": [
       "Index(['Latitude', 'Longitude', 'DateTime', 'Parameter', 'Concentration',\n",
       "       'Unit', 'AQI', 'Category'],\n",
       "      dtype='object')"
      ]
     },
     "execution_count": 2,
     "metadata": {},
     "output_type": "execute_result"
    }
   ],
   "source": [
    "test=pd.read_csv('data/summer_2021_airnow.csv', index_col=0, parse_dates=['DateTime'])\n",
    "test.columns"
   ]
  },
  {
   "cell_type": "code",
   "execution_count": 6,
   "id": "dd96d017-5109-4e56-8714-41d842bb9b42",
   "metadata": {},
   "outputs": [
    {
     "data": {
      "text/html": [
       "<div>\n",
       "<style scoped>\n",
       "    .dataframe tbody tr th:only-of-type {\n",
       "        vertical-align: middle;\n",
       "    }\n",
       "\n",
       "    .dataframe tbody tr th {\n",
       "        vertical-align: top;\n",
       "    }\n",
       "\n",
       "    .dataframe thead th {\n",
       "        text-align: right;\n",
       "    }\n",
       "</style>\n",
       "<table border=\"1\" class=\"dataframe\">\n",
       "  <thead>\n",
       "    <tr style=\"text-align: right;\">\n",
       "      <th></th>\n",
       "      <th>latitude</th>\n",
       "      <th>longitude</th>\n",
       "      <th>datetime</th>\n",
       "      <th>parameter</th>\n",
       "      <th>concentration</th>\n",
       "      <th>unit</th>\n",
       "      <th>aqi</th>\n",
       "      <th>category</th>\n",
       "      <th>season</th>\n",
       "    </tr>\n",
       "  </thead>\n",
       "  <tbody>\n",
       "    <tr>\n",
       "      <th>0</th>\n",
       "      <td>41.965000</td>\n",
       "      <td>-87.876100</td>\n",
       "      <td>2021-07-04 02:00:00</td>\n",
       "      <td>OZONE</td>\n",
       "      <td>31.0</td>\n",
       "      <td>PPB</td>\n",
       "      <td>29</td>\n",
       "      <td>1</td>\n",
       "      <td>summer</td>\n",
       "    </tr>\n",
       "    <tr>\n",
       "      <th>1</th>\n",
       "      <td>42.060300</td>\n",
       "      <td>-87.863100</td>\n",
       "      <td>2021-07-04 02:00:00</td>\n",
       "      <td>PM2.5</td>\n",
       "      <td>10.5</td>\n",
       "      <td>UG/M3</td>\n",
       "      <td>44</td>\n",
       "      <td>1</td>\n",
       "      <td>summer</td>\n",
       "    </tr>\n",
       "    <tr>\n",
       "      <th>2</th>\n",
       "      <td>42.060300</td>\n",
       "      <td>-87.863100</td>\n",
       "      <td>2021-07-04 02:00:00</td>\n",
       "      <td>OZONE</td>\n",
       "      <td>35.0</td>\n",
       "      <td>PPB</td>\n",
       "      <td>32</td>\n",
       "      <td>1</td>\n",
       "      <td>summer</td>\n",
       "    </tr>\n",
       "    <tr>\n",
       "      <th>3</th>\n",
       "      <td>41.855301</td>\n",
       "      <td>-87.752502</td>\n",
       "      <td>2021-07-04 02:00:00</td>\n",
       "      <td>OZONE</td>\n",
       "      <td>34.0</td>\n",
       "      <td>PPB</td>\n",
       "      <td>31</td>\n",
       "      <td>1</td>\n",
       "      <td>summer</td>\n",
       "    </tr>\n",
       "    <tr>\n",
       "      <th>4</th>\n",
       "      <td>41.864329</td>\n",
       "      <td>-87.748826</td>\n",
       "      <td>2021-07-04 02:00:00</td>\n",
       "      <td>PM2.5</td>\n",
       "      <td>5.3</td>\n",
       "      <td>UG/M3</td>\n",
       "      <td>22</td>\n",
       "      <td>1</td>\n",
       "      <td>summer</td>\n",
       "    </tr>\n",
       "  </tbody>\n",
       "</table>\n",
       "</div>"
      ],
      "text/plain": [
       "    latitude  longitude            datetime parameter  concentration   unit  \\\n",
       "0  41.965000 -87.876100 2021-07-04 02:00:00     OZONE           31.0    PPB   \n",
       "1  42.060300 -87.863100 2021-07-04 02:00:00     PM2.5           10.5  UG/M3   \n",
       "2  42.060300 -87.863100 2021-07-04 02:00:00     OZONE           35.0    PPB   \n",
       "3  41.855301 -87.752502 2021-07-04 02:00:00     OZONE           34.0    PPB   \n",
       "4  41.864329 -87.748826 2021-07-04 02:00:00     PM2.5            5.3  UG/M3   \n",
       "\n",
       "   aqi  category  season  \n",
       "0   29         1  summer  \n",
       "1   44         1  summer  \n",
       "2   32         1  summer  \n",
       "3   31         1  summer  \n",
       "4   22         1  summer  "
      ]
     },
     "execution_count": 6,
     "metadata": {},
     "output_type": "execute_result"
    }
   ],
   "source": [
    "# Import AirNow data into a single DataFrame\n",
    "df_an = pd.DataFrame()\n",
    "\n",
    "for season in seasons:\n",
    "    df_tmp = pd.read_csv(f'data/{season}_2021_airnow.csv', index_col=0, parse_dates=['DateTime'])\n",
    "    df_tmp['season'] = season\n",
    "    df_tmp.columns = [col.lower() for col in df_tmp.columns]  \n",
    "    df_an = df_an.append(df_tmp)\n",
    "\n",
    "df_an.head()"
   ]
  },
  {
   "cell_type": "code",
   "execution_count": null,
   "id": "59d68bea-1120-4385-a6c8-d3d5c43e00c5",
   "metadata": {},
   "outputs": [],
   "source": []
  }
 ],
 "metadata": {
  "kernelspec": {
   "display_name": "aqi",
   "language": "python",
   "name": "aqi"
  },
  "language_info": {
   "codemirror_mode": {
    "name": "ipython",
    "version": 3
   },
   "file_extension": ".py",
   "mimetype": "text/x-python",
   "name": "python",
   "nbconvert_exporter": "python",
   "pygments_lexer": "ipython3",
   "version": "3.8.10"
  }
 },
 "nbformat": 4,
 "nbformat_minor": 5
}
