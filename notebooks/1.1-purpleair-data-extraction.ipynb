{
 "cells": [
  {
   "cell_type": "markdown",
   "id": "772c60db-18b5-4126-acbc-664e19c99e8e",
   "metadata": {},
   "source": [
    "# Extract Historical Data From PurpleAir Sensors\n",
    "In this notebook, we will extract historical data from PurpleAir sensors in the Ukranian Village neighborhood of Chicago. To account for seasonal variability, we wanted to collect a 3 week summer dataset (1st-20th July 2021) and a 3 week winter dataset (1st - 20th Jan 2021). In order to collect historical data, we first have to use the PurpleAir API to get the Thingspeak API keys and sensor IDs. We then pull the data from Thingspeak. Unfortunately, Thingspeak has a date limit and does not keep data older than about 3 1/2 months. For this reason, we will pull the oldest and newest data possible."
   ]
  },
  {
   "cell_type": "code",
   "execution_count": 1,
   "id": "9e934f68-06be-40a1-99b2-40dd124b4509",
   "metadata": {},
   "outputs": [],
   "source": [
    "# load libraries\n",
    "import os\n",
    "os.chdir('../') # move up one directory level\n",
    "\n",
    "from datetime import datetime\n",
    "import pandas as pd\n",
    "\n",
    "from src.config import PURPLE_AIR_KEY # this is your personal Purple Air Key (see README)\n",
    "from src.data import pull_purpleair_data, pull_purpleair_historical, add_pa_sensor"
   ]
  },
  {
   "cell_type": "code",
   "execution_count": 2,
   "id": "2ac85049-ea9d-401c-9764-2a8ef1fe6b9a",
   "metadata": {},
   "outputs": [],
   "source": [
    "# pull list of PurpleAir sensors from JSON file\n",
    "sensor_df = pd.read_json(\"data/pa_sensors.json\")"
   ]
  },
  {
   "cell_type": "markdown",
   "id": "f6047d5d-de39-4f75-bf73-1e11a3bdcdd6",
   "metadata": {},
   "source": [
    "## Update PurpleAir sensor file\n",
    "1. Visit [map.purpleair.com](https://map.purpleair.com) and click on the sensor of interest.\n",
    "1. Grab the Purple Air sensor ID from the url (eg. <span style=\"font-size:11px\">map.purpleair.com/1/m/i/mAQI/a10/p604800/cC0?select=</span><b>87741</b><span style=\"font-size:11px\">#12.6/41.87991/-87.67404)</span>\n",
    "1. Add the Sensor ID(s), Neighborhood, and City to the `pa_sensors.json` file using the following code."
   ]
  },
  {
   "cell_type": "code",
   "execution_count": 3,
   "id": "6171a661-e8ca-4164-b09b-a7940cf2f4cd",
   "metadata": {},
   "outputs": [],
   "source": [
    "# neighborhood where sensors are located\n",
    "AREA = 'Ukranian Village' # update with neighborhood of interest, user-defined\n",
    "\n",
    "# list of PurpleAir sensor IDs in the neighborhood\n",
    "ID_LIST = [87741,3499] # update with sensors of interest, pulled from map.purpleair.com\n",
    "\n",
    "# name of JSON file containing sensor info\n",
    "JSON_FILE = 'data/pa_sensors.json'\n",
    "\n",
    "# city where sensors are located\n",
    "CITY = 'Chicago'\n",
    "\n",
    "# year that data pull begins\n",
    "YEAR = 2021"
   ]
  },
  {
   "cell_type": "code",
   "execution_count": 4,
   "id": "f19d3b3b-706c-4794-af34-7d9933a08ccb",
   "metadata": {},
   "outputs": [],
   "source": [
    "#add sensors\n",
    "for sensor in ID_LIST:\n",
    "    sensor_df = add_pa_sensor(\n",
    "        sensor_df, \n",
    "        sensor_id=sensor, \n",
    "        neighborhood=AREA,\n",
    "        city=CITY\n",
    "    )"
   ]
  },
  {
   "cell_type": "markdown",
   "id": "0d983329-d54e-4516-9a41-abbe0c9c90eb",
   "metadata": {},
   "source": [
    "## Create a list of Thingspeak IDs and keys\n",
    "Run the code below to get the Thingspeak data and update the sensor file"
   ]
  },
  {
   "cell_type": "code",
   "execution_count": 5,
   "id": "ec11f57a-15b2-4edf-baac-92d81f3d1500",
   "metadata": {
    "tags": []
   },
   "outputs": [],
   "source": [
    "# create dataframe for sensors data\n",
    "pa_sensor_data = pull_purpleair_data(\n",
    "    sensors = sensor_df, \n",
    "    city = CITY,\n",
    "    neighborhood = AREA,\n",
    "    key = PURPLE_AIR_KEY\n",
    ")"
   ]
  },
  {
   "cell_type": "code",
   "execution_count": 6,
   "id": "b73e938c-ec12-4d0f-9972-a7a098c11a86",
   "metadata": {},
   "outputs": [],
   "source": [
    "# update sensor_df with Thingspeak data\n",
    "for sensor in pa_sensor_data[pa_sensor_data.DEVICE_LOCATIONTYPE == 'outside']['ID']:\n",
    "    if pd.isnull(sensor_df[(sensor_df.SensorID == sensor)]['ThingspeakID']).values[0]:\n",
    "        # get ThingspeakID\n",
    "        sensor_df.loc[\n",
    "            sensor_df.SensorID == sensor,'ThingspeakID'\n",
    "        ] = int(pa_sensor_data[pa_sensor_data.ID == sensor]['THINGSPEAK_PRIMARY_ID'].values[0])\n",
    "        \n",
    "        # get ThingspeakKey\n",
    "        sensor_df.loc[\n",
    "            sensor_df.SensorID == sensor,'ThingspeakKey'\n",
    "        ] = pa_sensor_data[pa_sensor_data.ID == sensor]['THINGSPEAK_PRIMARY_ID_READ_KEY'].values[0]\n",
    "        \n",
    "        # get sensor Location\n",
    "        sensor_df.loc[\n",
    "            sensor_df.SensorID == sensor,'Location'\n",
    "        ] = pa_sensor_data[pa_sensor_data.ID == sensor]['Label'].values[0]\n",
    "        \n",
    "        # get ThingspeakID for child sensor\n",
    "        sensor_df.loc[\n",
    "            sensor_df.SensorID == sensor,'ThingspeakID_B'\n",
    "        ] = int(pa_sensor_data[pa_sensor_data.ID == sensor]['THINGSPEAK_SECONDARY_ID'].values[0])\n",
    "        \n",
    "        # get ThingspeakKey for child sensor\n",
    "        sensor_df.loc[\n",
    "            sensor_df.SensorID == sensor,'ThingspeakKey_B'\n",
    "        ] = pa_sensor_data[pa_sensor_data.ID == sensor]['THINGSPEAK_SECONDARY_ID_READ_KEY'].values[0]"
   ]
  },
  {
   "cell_type": "code",
   "execution_count": 7,
   "id": "c043f949-7367-483a-86b0-939559584577",
   "metadata": {},
   "outputs": [
    {
     "data": {
      "text/html": [
       "<div>\n",
       "<style scoped>\n",
       "    .dataframe tbody tr th:only-of-type {\n",
       "        vertical-align: middle;\n",
       "    }\n",
       "\n",
       "    .dataframe tbody tr th {\n",
       "        vertical-align: top;\n",
       "    }\n",
       "\n",
       "    .dataframe thead th {\n",
       "        text-align: right;\n",
       "    }\n",
       "</style>\n",
       "<table border=\"1\" class=\"dataframe\">\n",
       "  <thead>\n",
       "    <tr style=\"text-align: right;\">\n",
       "      <th></th>\n",
       "      <th>SensorID</th>\n",
       "      <th>Neighborhood</th>\n",
       "      <th>City</th>\n",
       "      <th>ThingspeakID</th>\n",
       "      <th>ThingspeakKey</th>\n",
       "      <th>Location</th>\n",
       "      <th>ThingspeakID_B</th>\n",
       "      <th>ThingspeakKey_B</th>\n",
       "    </tr>\n",
       "  </thead>\n",
       "  <tbody>\n",
       "    <tr>\n",
       "      <th>0</th>\n",
       "      <td>96035</td>\n",
       "      <td>McKinley Park</td>\n",
       "      <td>Chicago</td>\n",
       "      <td>1267967.0</td>\n",
       "      <td>6AB8IRLJJPKIFME0</td>\n",
       "      <td>36th and Paulina</td>\n",
       "      <td>1267969.0</td>\n",
       "      <td>L3Y8P2IWC9NY4HLO</td>\n",
       "    </tr>\n",
       "    <tr>\n",
       "      <th>1</th>\n",
       "      <td>96395</td>\n",
       "      <td>McKinley Park</td>\n",
       "      <td>Chicago</td>\n",
       "      <td>1271673.0</td>\n",
       "      <td>5REK7K675FMHLXCU</td>\n",
       "      <td>38th &amp; Winchester</td>\n",
       "      <td>1271675.0</td>\n",
       "      <td>324MUY4V609SF5M0</td>\n",
       "    </tr>\n",
       "    <tr>\n",
       "      <th>2</th>\n",
       "      <td>94975</td>\n",
       "      <td>McKinley Park</td>\n",
       "      <td>Chicago</td>\n",
       "      <td>1261965.0</td>\n",
       "      <td>UKYER4XQP4R4KLVQ</td>\n",
       "      <td>39th and Damen (NLEI)</td>\n",
       "      <td>1261967.0</td>\n",
       "      <td>YUSL71LBU2F7DJAJ</td>\n",
       "    </tr>\n",
       "    <tr>\n",
       "      <th>3</th>\n",
       "      <td>113494</td>\n",
       "      <td>South Lawndale</td>\n",
       "      <td>Chicago</td>\n",
       "      <td>1440112.0</td>\n",
       "      <td>9O7I4C3E4GZ46WWX</td>\n",
       "      <td>LVEJO</td>\n",
       "      <td>1440126.0</td>\n",
       "      <td>SNCNY2YTNI3YP0RN</td>\n",
       "    </tr>\n",
       "    <tr>\n",
       "      <th>4</th>\n",
       "      <td>113474</td>\n",
       "      <td>South Lawndale</td>\n",
       "      <td>Chicago</td>\n",
       "      <td>1440052.0</td>\n",
       "      <td>5NMUSWFVMU48KQLT</td>\n",
       "      <td>LVEJO_3</td>\n",
       "      <td>1440054.0</td>\n",
       "      <td>MW4CZO5RL3X0MHBA</td>\n",
       "    </tr>\n",
       "    <tr>\n",
       "      <th>5</th>\n",
       "      <td>5774</td>\n",
       "      <td>South Lawndale</td>\n",
       "      <td>Chicago</td>\n",
       "      <td>395514.0</td>\n",
       "      <td>9WOL7PCGSU9ZV8P5</td>\n",
       "      <td>LVEJO_5</td>\n",
       "      <td>395517.0</td>\n",
       "      <td>2TDGMCMLRQPM745H</td>\n",
       "    </tr>\n",
       "    <tr>\n",
       "      <th>6</th>\n",
       "      <td>87741</td>\n",
       "      <td>Ukranian Village</td>\n",
       "      <td>Chicago</td>\n",
       "      <td>1215908.0</td>\n",
       "      <td>KP43J7MJGIHV457E</td>\n",
       "      <td>Ukrainian Village Chicago</td>\n",
       "      <td>1215910.0</td>\n",
       "      <td>N3YVGO0HGNQN6VTI</td>\n",
       "    </tr>\n",
       "    <tr>\n",
       "      <th>7</th>\n",
       "      <td>3499</td>\n",
       "      <td>Ukranian Village</td>\n",
       "      <td>Chicago</td>\n",
       "      <td>334460.0</td>\n",
       "      <td>39XP408ZUPEBCDG9</td>\n",
       "      <td>Ukrainian Village</td>\n",
       "      <td>334461.0</td>\n",
       "      <td>ZHCH54TYCMYF4RPU</td>\n",
       "    </tr>\n",
       "  </tbody>\n",
       "</table>\n",
       "</div>"
      ],
      "text/plain": [
       "   SensorID      Neighborhood     City  ThingspeakID     ThingspeakKey  \\\n",
       "0     96035     McKinley Park  Chicago     1267967.0  6AB8IRLJJPKIFME0   \n",
       "1     96395     McKinley Park  Chicago     1271673.0  5REK7K675FMHLXCU   \n",
       "2     94975     McKinley Park  Chicago     1261965.0  UKYER4XQP4R4KLVQ   \n",
       "3    113494    South Lawndale  Chicago     1440112.0  9O7I4C3E4GZ46WWX   \n",
       "4    113474    South Lawndale  Chicago     1440052.0  5NMUSWFVMU48KQLT   \n",
       "5      5774    South Lawndale  Chicago      395514.0  9WOL7PCGSU9ZV8P5   \n",
       "6     87741  Ukranian Village  Chicago     1215908.0  KP43J7MJGIHV457E   \n",
       "7      3499  Ukranian Village  Chicago      334460.0  39XP408ZUPEBCDG9   \n",
       "\n",
       "                    Location  ThingspeakID_B   ThingspeakKey_B  \n",
       "0           36th and Paulina       1267969.0  L3Y8P2IWC9NY4HLO  \n",
       "1          38th & Winchester       1271675.0  324MUY4V609SF5M0  \n",
       "2      39th and Damen (NLEI)       1261967.0  YUSL71LBU2F7DJAJ  \n",
       "3                      LVEJO       1440126.0  SNCNY2YTNI3YP0RN  \n",
       "4                    LVEJO_3       1440054.0  MW4CZO5RL3X0MHBA  \n",
       "5                    LVEJO_5        395517.0  2TDGMCMLRQPM745H  \n",
       "6  Ukrainian Village Chicago       1215910.0  N3YVGO0HGNQN6VTI  \n",
       "7          Ukrainian Village        334461.0  ZHCH54TYCMYF4RPU  "
      ]
     },
     "execution_count": 7,
     "metadata": {},
     "output_type": "execute_result"
    }
   ],
   "source": [
    "# check that data was updated\n",
    "sensor_df"
   ]
  },
  {
   "cell_type": "code",
   "execution_count": 8,
   "id": "02b4bb21-26a3-4261-a8a9-f45a5a0147c4",
   "metadata": {},
   "outputs": [],
   "source": [
    "# save dataframe to json file\n",
    "sensor_df.to_json(JSON_FILE, indent=2)"
   ]
  },
  {
   "cell_type": "code",
   "execution_count": 9,
   "id": "77c02a1f-1225-4838-8875-b635ef301006",
   "metadata": {},
   "outputs": [],
   "source": [
    "# create a dictionary of parent Thingspeaks IDs and keys\n",
    "id_dict = {}\n",
    "for idx in pa_sensor_data[~pa_sensor_data.Label.str.endswith('B')].index:\n",
    "    id_dict[pa_sensor_data.loc[idx,'ID']]= {\n",
    "        'ThingspeakID': pa_sensor_data.loc[idx,'THINGSPEAK_PRIMARY_ID'],\n",
    "        'ThingspeakKey': pa_sensor_data.loc[idx,'THINGSPEAK_PRIMARY_ID_READ_KEY'],\n",
    "        'Location': pa_sensor_data.loc[idx,'Label']\n",
    "    }"
   ]
  },
  {
   "cell_type": "code",
   "execution_count": 10,
   "id": "ec7034a8-ebc3-4073-a4e9-13a98f9b0698",
   "metadata": {},
   "outputs": [],
   "source": [
    "# create a dictionary of child purpleair sensors\n",
    "id_dict_b = {}\n",
    "for idx in pa_sensor_data[pa_sensor_data.Label.str.endswith('B')].index:\n",
    "    id_dict_b[pa_sensor_data.loc[idx,'ID']]= {\n",
    "        'ThingspeakID_B': pa_sensor_data.loc[idx,'THINGSPEAK_PRIMARY_ID'],\n",
    "        'ThingspeakKey_B': pa_sensor_data.loc[idx,'THINGSPEAK_PRIMARY_ID_READ_KEY']\n",
    "    }"
   ]
  },
  {
   "cell_type": "markdown",
   "id": "5f4b40a3-c15f-4ee7-8650-0cb28832101c",
   "metadata": {},
   "source": [
    "## Pull June PurpleAir Data"
   ]
  },
  {
   "cell_type": "code",
   "execution_count": 11,
   "id": "c26be3cb-beef-4f07-8179-550b5ca781d7",
   "metadata": {},
   "outputs": [],
   "source": [
    "# define Thingspeak column labels\n",
    "PARENT_PRIMARY_COLS = {\n",
    "    'created_at': 'created_at',\n",
    "    'entry_id': 'entry_id',\n",
    "    'field1': 'PM1.0 (CF=1) ug/m3',\n",
    "    'field2': 'PM2.5 (CF=1) ug/m3',\n",
    "    'field3': 'PM10.0 (CF=1) ug/m3',\n",
    "    'field4': 'UptimeMinutes',\n",
    "    'field5': 'ADC',\n",
    "    'field6': 'Temperature_F',\n",
    "    'field7': 'Humidity_%',\n",
    "    'field8': 'PM2.5 (CF=ATM) ug/m3',\n",
    "}\n",
    "\n",
    "PARENT_SECONDARY_COLS = {\n",
    "    'created_at': 'created_at',\n",
    "    'entry_id': 'entry_id',\n",
    "    'field1': '0.3um/dl',\n",
    "    'field2': '0.5um/dl',\n",
    "    'field3': '1.0um/dl',\n",
    "    'field4': '2.5um/dl',\n",
    "    'field5': '5.0um/dl',\n",
    "    'field6': '10.0um/dl',\n",
    "    'field7': 'PM1.0 (CF=ATM) ug/m3',\n",
    "    'field8': 'PM10 (CF=ATM) ug/m3',\n",
    "}\n",
    "\n",
    "CHILD_PRIMARY_COLS = {\n",
    "    'created_at': 'created_at',\n",
    "    'entry_id': 'entry_id',\n",
    "    'field1': 'PM1.0 (CF=1) ug/m3',\n",
    "    'field2': 'PM2.5 (CF=1) ug/m3',\n",
    "    'field3': 'PM10.0 (CF=1) ug/m3',\n",
    "    'field4': 'UptimeMinutes',\n",
    "    'field5': 'RSSI_dbm',\n",
    "    'field6': 'Atmospheric Pressure',\n",
    "    'field7': 'gas_sensor',\n",
    "    'field8': 'PM2.5 (CF=ATM) ug/m3',\n",
    "}\n",
    "\n",
    "CHILD_SECONDARY_COLS = {\n",
    "    'created_at': 'created_at',\n",
    "    'entry_id': 'entry_id',\n",
    "    'field1': '0.3um/dl',\n",
    "    'field2': '0.5um/dl',\n",
    "    'field3': '1.0um/dl',\n",
    "    'field4': '2.5um/dl',\n",
    "    'field5': '5.0um/dl',\n",
    "    'field6': '10.0um/dl',\n",
    "    'field7': 'PM1.0 (CF=ATM) ug/m3',\n",
    "    'field8': 'PM10 (CF=ATM) ug/m3'\n",
    "}"
   ]
  },
  {
   "cell_type": "code",
   "execution_count": 12,
   "id": "3d5f8332-5083-49c9-a3c6-279d2a579ac7",
   "metadata": {},
   "outputs": [],
   "source": [
    "# create PurpleAir sensor dataframe\n",
    "pa_sensor_df = pd.DataFrame(columns=PARENT_PRIMARY_COLS.values())\n",
    "pa_sensor_df['sensor'] = ''\n",
    "\n",
    "# iterate through primary sensor data\n",
    "for idx,sensor in enumerate(sensor_df[sensor_df.Neighborhood == AREA].SensorID):\n",
    "    # pull sensor data\n",
    "    df = pull_purpleair_historical(\n",
    "        weeks_to_get=3,\n",
    "        channel=int(sensor_df.loc[idx,'ThingspeakID']),\n",
    "        key=sensor_df.loc[idx,'ThingspeakKey'],\n",
    "        col_names=PARENT_PRIMARY_COLS,\n",
    "        start_date=datetime(YEAR, 8, 1, 21, 32, 15, 259245)\n",
    "    )\n",
    "    df['sensor'] = sensor\n",
    "    \n",
    "    # append to pa_sensor_df\n",
    "    pa_sensor_df = pd.concat([pa_sensor_df, df])"
   ]
  },
  {
   "cell_type": "code",
   "execution_count": 13,
   "id": "d26236bc-ddd9-45ac-9adc-dcd5634cc2a8",
   "metadata": {},
   "outputs": [
    {
     "name": "stdout",
     "output_type": "stream",
     "text": [
      "There are 28 days of sensor data.\n"
     ]
    }
   ],
   "source": [
    "days = pa_sensor_df.created_at.dt.day.nunique()\n",
    "print(f'There are {days} days of sensor data.')"
   ]
  },
  {
   "cell_type": "code",
   "execution_count": 18,
   "id": "76956302-58b9-4081-9b7c-983e27d1e350",
   "metadata": {},
   "outputs": [],
   "source": [
    "pa_sensor_df.to_csv(f\"data/summer_{str(YEAR)}_pa_parent_{AREA.lower().replace(' ','_')}.csv\")"
   ]
  },
  {
   "cell_type": "code",
   "execution_count": 19,
   "id": "f3c638a4-3a16-40ef-997c-73e96514b6e9",
   "metadata": {},
   "outputs": [],
   "source": [
    "# create PurpleAir sensor B dataframe\n",
    "pa_sensor_b_df = pd.DataFrame(columns=CHILD_PRIMARY_COLS.values())\n",
    "pa_sensor_b_df['sensor'] = ''\n",
    "\n",
    "# iterate through primary sensor data\n",
    "for sensor in id_dict_b.keys():\n",
    "    # pull sensor data\n",
    "    df = pull_purpleair_historical(\n",
    "        weeks_to_get=3,\n",
    "        channel=id_dict_b[sensor]['ThingspeakID_B'],\n",
    "        key=id_dict_b[sensor]['ThingspeakKey_B'],\n",
    "        col_names=CHILD_PRIMARY_COLS,\n",
    "        start_date=datetime(YEAR, 8, 1, 21, 32, 15, 259245)\n",
    "    )\n",
    "    df['sensor'] = sensor\n",
    "    \n",
    "    # append to pa_sensor_df\n",
    "    pa_sensor_b_df = pd.concat([pa_sensor_b_df, df])"
   ]
  },
  {
   "cell_type": "code",
   "execution_count": 20,
   "id": "673d2d2e-5493-45be-a7e6-debe105804a5",
   "metadata": {},
   "outputs": [],
   "source": [
    "pa_sensor_b_df.to_csv(f\"data/summer_{str(YEAR)}_pa_child_{AREA.lower().replace(' ','_')}.csv\")"
   ]
  },
  {
   "cell_type": "markdown",
   "id": "e89d9e84-4db6-4579-8d5d-2835661218d9",
   "metadata": {},
   "source": [
    "# Pull Autumn 2021 Data"
   ]
  },
  {
   "cell_type": "code",
   "execution_count": 21,
   "id": "9eeeca18-7140-40cd-9ccf-cc900b3d3cd9",
   "metadata": {},
   "outputs": [],
   "source": [
    "# create PurpleAir sensor dataframe\n",
    "pa_sensor_df2 = pd.DataFrame(columns=PARENT_PRIMARY_COLS.values())\n",
    "pa_sensor_df2['sensor'] = ''\n",
    "\n",
    "# iterate through primary sensor data\n",
    "for sensor in id_dict.keys():\n",
    "    # pull sensor data\n",
    "    df = pull_purpleair_historical(\n",
    "        weeks_to_get=3,\n",
    "        channel=id_dict[sensor]['ThingspeakID'],\n",
    "        key=id_dict[sensor]['ThingspeakKey'],\n",
    "        col_names=PARENT_PRIMARY_COLS,\n",
    "        start_date=datetime(YEAR, 11, 2, 21, 32, 15, 259245)\n",
    "    )\n",
    "    df['sensor'] = sensor\n",
    "    \n",
    "    # append to pa_sensor_df\n",
    "    pa_sensor_df2 = pd.concat([pa_sensor_df2, df])"
   ]
  },
  {
   "cell_type": "code",
   "execution_count": 22,
   "id": "4ea2eec1-c5b1-4f86-8fe5-3feb71a6891a",
   "metadata": {},
   "outputs": [
    {
     "name": "stdout",
     "output_type": "stream",
     "text": [
      "There are 28 days of sensor data.\n"
     ]
    }
   ],
   "source": [
    "days2 = pa_sensor_df2.created_at.dt.day.nunique()\n",
    "print(f'There are {days2} days of sensor data.')"
   ]
  },
  {
   "cell_type": "code",
   "execution_count": 23,
   "id": "20f0c48d-c145-48b7-aebb-be1b90f38f67",
   "metadata": {},
   "outputs": [],
   "source": [
    "pa_sensor_df2.to_csv(f\"data/autumn_{str(YEAR)}_pa_parent_{AREA.lower().replace(' ','_')}.csv\")"
   ]
  },
  {
   "cell_type": "code",
   "execution_count": 24,
   "id": "4f3edcb0-e773-45f4-a70e-764a1808eaec",
   "metadata": {},
   "outputs": [],
   "source": [
    "# create PurpleAir sensor B dataframe\n",
    "pa_sensor_b_df2 = pd.DataFrame(columns=CHILD_PRIMARY_COLS.values())\n",
    "pa_sensor_b_df2['sensor'] = ''\n",
    "\n",
    "# iterate through primary sensor data\n",
    "for sensor in id_dict_b.keys():\n",
    "    # pull sensor data\n",
    "    df = pull_purpleair_historical(\n",
    "        weeks_to_get=3,\n",
    "        channel=id_dict_b[sensor]['ThingspeakID_B'],\n",
    "        key=id_dict_b[sensor]['ThingspeakKey_B'],\n",
    "        col_names=CHILD_PRIMARY_COLS,\n",
    "        start_date=datetime(YEAR, 11, 2, 21, 32, 15, 259245)\n",
    "    )\n",
    "    df['sensor'] = sensor\n",
    "    \n",
    "    # append to pa_sensor_df\n",
    "    pa_sensor_b_df2 = pd.concat([pa_sensor_b_df2, df])"
   ]
  },
  {
   "cell_type": "code",
   "execution_count": 25,
   "id": "1475ec73-d22d-45ef-bf1e-76bbb8eb0afc",
   "metadata": {},
   "outputs": [],
   "source": [
    "pa_sensor_b_df2.to_csv(f\"data/autumn_{str(YEAR)}_pa_child_{AREA.lower().replace(' ','_')}.csv\")"
   ]
  },
  {
   "cell_type": "code",
   "execution_count": null,
   "id": "032f6077-c468-4b50-885a-fa8766b5d207",
   "metadata": {},
   "outputs": [],
   "source": []
  }
 ],
 "metadata": {
  "kernelspec": {
   "display_name": "aqi",
   "language": "python",
   "name": "aqi"
  },
  "language_info": {
   "codemirror_mode": {
    "name": "ipython",
    "version": 3
   },
   "file_extension": ".py",
   "mimetype": "text/x-python",
   "name": "python",
   "nbconvert_exporter": "python",
   "pygments_lexer": "ipython3",
   "version": "3.8.10"
  }
 },
 "nbformat": 4,
 "nbformat_minor": 5
}
