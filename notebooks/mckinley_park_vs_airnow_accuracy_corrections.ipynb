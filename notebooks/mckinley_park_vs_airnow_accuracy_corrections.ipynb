{
 "cells": [
  {
   "cell_type": "markdown",
   "id": "b14d5f55",
   "metadata": {},
   "source": [
    "# Comparing McKinley Park's PurpleAir (PA) sensors to EPA AirNow's (AN) sensors using accuracy correction formulae\n",
    "\n",
    "In this notebook we recreate the analysis from the `compare_airnow_and_purpleair` notebook but we take into account various correction formulae for the PA sensors found in the literature. Formally, we are interested in testing the hypothesis that the McKinley PurpleAir readings are significantly different than the EPA's AirNow readings."
   ]
  },
  {
   "cell_type": "markdown",
   "id": "07d4b22a",
   "metadata": {},
   "source": [
    "## TODO Literature review\n",
    "\n",
    "#### TODO look into AQandU and LRAPA corrections, are these woodsmoke-specific corrections?\n",
    "#### TODO why does woodsmoke have to be considered differently?\n",
    "\n",
    "In this section we briefly review some of the literature that compares the PM2.5 measurements of the PurpleAir sensors to that of other sensors.\n",
    "\n",
    "###  Basic notions\n",
    "\n",
    "### Comparisons and correction formulae\n",
    "\n",
    "### References\n",
    "\n",
    "[1] https://cfpub.epa.gov/si/si_public_record_Report.cfm?dirEntryId=350075&Lab=CEMM\n",
    "\n",
    "[2] https://www.sciencedirect.com/science/article/abs/pii/S135223102100251X\n",
    "\n",
    "[3] https://api.purpleair.com/\n",
    "\n",
    "[4] https://map.purpleair.com\n",
    "\n",
    "[5] http://lar.wsu.edu/nw-airquest/docs/20200610_meeting/NWAQ_20200611_1030_Hadley.pdf"
   ]
  },
  {
   "cell_type": "markdown",
   "id": "a4475de9",
   "metadata": {},
   "source": [
    "## Analysis"
   ]
  },
  {
   "cell_type": "markdown",
   "id": "9d210093",
   "metadata": {},
   "source": [
    "### Imports and utility"
   ]
  },
  {
   "cell_type": "code",
   "execution_count": 2,
   "id": "3fd3d1f7",
   "metadata": {},
   "outputs": [],
   "source": [
    "import matplotlib.pyplot as plt\n",
    "import numpy as np\n",
    "import pandas as pd\n",
    "import seaborn as sns\n",
    "\n",
    "pd.options.display.precision = 1\n",
    "\n",
    "PATH = '../data/'\n",
    "SEASONS = ['summer', 'autumn']\n",
    "FILE_STUBS = {'an': '_2021_airnow',\n",
    "              'pa': '_2021_pa_'}\n",
    "CHANNELS = {'a': 'parent',\n",
    "            'b': 'child'}\n",
    "\n",
    "# features of interest (and how we'll rename them)\n",
    "COLUMNS = {'pa': {'season': 'season',\n",
    "                  'sensor': 'sensor',\n",
    "                  'created_at': 'date',\n",
    "                  'pm2.5_(cf=1)_ug/m3': 'pm25_cf_1',\n",
    "                  'pm2.5_(cf=atm)_ug/m3': 'pm25_cf_atm',\n",
    "                  'temperature_f': 'temperature_f',\n",
    "                  'humidity_%': 'humidity_%'},\n",
    "           'an': {'season': 'season',\n",
    "                  'latitude': 'latitude',\n",
    "                  'longitude': 'longitude',\n",
    "                  'datetime': 'date',\n",
    "                  'concentration': 'pm25'}}"
   ]
  },
  {
   "cell_type": "markdown",
   "id": "4dad8b47",
   "metadata": {},
   "source": [
    "### Load data into PA and AN DataFrames\n",
    "\n",
    "Each DataFrame contains data for PM2.5, humidity, etc. for both seasons. Following [1], the PurpleAir data is averaged over the parent and child data (A and B channels) when possible. From the PA sensors, we keep only those located in McKinley Park, which is our region of interest.\n",
    "\n",
    "#### TODO what happens when the A and B channels differ significantly?"
   ]
  },
  {
   "cell_type": "code",
   "execution_count": 3,
   "id": "69eb35ee",
   "metadata": {},
   "outputs": [],
   "source": [
    "def load_data(dataset):\n",
    "    # TODO documentation\n",
    "    \n",
    "    df = pd.DataFrame()\n",
    "    \n",
    "    if dataset == 'pa':\n",
    "        for season in SEASONS:\n",
    "            for channel in CHANNELS.keys():\n",
    "                filename = f'{PATH}{season}{FILE_STUBS[dataset]}{CHANNELS[channel]}.csv'\n",
    "                df_season_channel = pd.read_csv(filename)\n",
    "                df_season_channel['season'] = season\n",
    "                df = df.append(df_season_channel)\n",
    "        \n",
    "    elif dataset == 'an':\n",
    "        for season in SEASONS:\n",
    "            filename = f'{PATH}{season}{FILE_STUBS[dataset]}.csv'\n",
    "            df_season = pd.read_csv(filename)\n",
    "            # keep only PM2.5 data\n",
    "            df_season = df_season[df_season['Parameter'] == 'PM2.5']\n",
    "            df_season['season'] = season\n",
    "            df = df.append(df_season)\n",
    "        \n",
    "    else:\n",
    "        raise ValueError(f'Could not find dataset {dataset}!')\n",
    "        \n",
    "    # clean up headers, prune extraneous data\n",
    "    df.columns = df.columns.str.lower().str.replace(' ', '_')\n",
    "    df = df[list(COLUMNS[dataset].keys())]\n",
    "    df.rename(columns = COLUMNS[dataset], inplace = True)\n",
    "    \n",
    "    # convert date format to 'mm-yy HH:mm' (24hour time)\n",
    "    df['date'] = pd.to_datetime(df['date'])\n",
    "    df['date'] = df['date'].dt.strftime('%m/%d %H:%M')\n",
    "    \n",
    "    # for PurpleAir data, average the PM2.5 readings between the a and b channels\n",
    "    # and keep the humidity and temperature readings, which are only present in the a channel\n",
    "    \n",
    "    return df"
   ]
  },
  {
   "cell_type": "markdown",
   "id": "72cded40",
   "metadata": {},
   "source": [
    "For the PurpleAir data, we'll average the PM2.5 readings between the a and b channels (throwing away any points for which one is missing). We'll use the PM2.5 CF=1 data, and moreover, keep the temperature and humidity data, which is only present on the a channel.\n",
    "\n",
    "The a channel and b channel have sensor IDs that differ by 1."
   ]
  },
  {
   "cell_type": "markdown",
   "id": "5cd9dadf",
   "metadata": {},
   "source": [
    "#### TODO make sure to understand the merge behavior (here and below where we merge an and pa)"
   ]
  },
  {
   "cell_type": "code",
   "execution_count": 4,
   "id": "ee7a003e",
   "metadata": {},
   "outputs": [
    {
     "data": {
      "text/html": [
       "<div>\n",
       "<style scoped>\n",
       "    .dataframe tbody tr th:only-of-type {\n",
       "        vertical-align: middle;\n",
       "    }\n",
       "\n",
       "    .dataframe tbody tr th {\n",
       "        vertical-align: top;\n",
       "    }\n",
       "\n",
       "    .dataframe thead th {\n",
       "        text-align: right;\n",
       "    }\n",
       "</style>\n",
       "<table border=\"1\" class=\"dataframe\">\n",
       "  <thead>\n",
       "    <tr style=\"text-align: right;\">\n",
       "      <th></th>\n",
       "      <th>season</th>\n",
       "      <th>sensor</th>\n",
       "      <th>date</th>\n",
       "      <th>pm25</th>\n",
       "      <th>temperature_f</th>\n",
       "      <th>humidity_%</th>\n",
       "    </tr>\n",
       "  </thead>\n",
       "  <tbody>\n",
       "    <tr>\n",
       "      <th>0</th>\n",
       "      <td>summer</td>\n",
       "      <td>36th and Paulina</td>\n",
       "      <td>07/25 00:01</td>\n",
       "      <td>15.3</td>\n",
       "      <td>87.0</td>\n",
       "      <td>65.0</td>\n",
       "    </tr>\n",
       "    <tr>\n",
       "      <th>1</th>\n",
       "      <td>summer</td>\n",
       "      <td>36th and Paulina</td>\n",
       "      <td>07/25 00:03</td>\n",
       "      <td>13.7</td>\n",
       "      <td>87.0</td>\n",
       "      <td>66.0</td>\n",
       "    </tr>\n",
       "    <tr>\n",
       "      <th>2</th>\n",
       "      <td>summer</td>\n",
       "      <td>36th and Paulina</td>\n",
       "      <td>07/25 00:05</td>\n",
       "      <td>14.8</td>\n",
       "      <td>86.0</td>\n",
       "      <td>67.0</td>\n",
       "    </tr>\n",
       "    <tr>\n",
       "      <th>3</th>\n",
       "      <td>summer</td>\n",
       "      <td>36th and Paulina</td>\n",
       "      <td>07/25 00:07</td>\n",
       "      <td>17.7</td>\n",
       "      <td>87.0</td>\n",
       "      <td>67.0</td>\n",
       "    </tr>\n",
       "    <tr>\n",
       "      <th>4</th>\n",
       "      <td>summer</td>\n",
       "      <td>36th and Paulina</td>\n",
       "      <td>07/25 00:09</td>\n",
       "      <td>18.4</td>\n",
       "      <td>87.0</td>\n",
       "      <td>66.0</td>\n",
       "    </tr>\n",
       "  </tbody>\n",
       "</table>\n",
       "</div>"
      ],
      "text/plain": [
       "   season            sensor         date  pm25  temperature_f  humidity_%\n",
       "0  summer  36th and Paulina  07/25 00:01  15.3           87.0        65.0\n",
       "1  summer  36th and Paulina  07/25 00:03  13.7           87.0        66.0\n",
       "2  summer  36th and Paulina  07/25 00:05  14.8           86.0        67.0\n",
       "3  summer  36th and Paulina  07/25 00:07  17.7           87.0        67.0\n",
       "4  summer  36th and Paulina  07/25 00:09  18.4           87.0        66.0"
      ]
     },
     "execution_count": 4,
     "metadata": {},
     "output_type": "execute_result"
    }
   ],
   "source": [
    "df_pa = load_data('pa')\n",
    "\n",
    "SENSOR_PAIRS = {'36th and Paulina': (96035, 96036),\n",
    "                '38th & Winchester': (96395, 96396),\n",
    "                '39th and Damen (NLEI)': (94975, 94976)}\n",
    "\n",
    "df_pa_ab_avg = pd.DataFrame()\n",
    "for monitor in SENSOR_PAIRS.keys():\n",
    "    df_a = df_pa[df_pa['sensor'] == SENSOR_PAIRS[monitor][0]]\n",
    "    df_b = df_pa[df_pa['sensor'] == SENSOR_PAIRS[monitor][1]][['date', 'pm25_cf_1']]\n",
    "    \n",
    "    df_merged = df_a.merge(df_b, left_on = 'date', right_on = 'date')\n",
    "    df_merged['pm25'] = (df_merged['pm25_cf_1_x'] + df_merged['pm25_cf_1_y']) / 2\n",
    "    df_merged['sensor'] = monitor\n",
    "    df_merged = df_merged[['season', 'sensor', 'date', 'pm25', 'temperature_f', 'humidity_%']]\n",
    "    \n",
    "    df_pa_ab_avg = df_pa_ab_avg.append(df_merged)\n",
    "\n",
    "df_pa_ab_avg.head()"
   ]
  },
  {
   "cell_type": "markdown",
   "id": "d0c2f740",
   "metadata": {},
   "source": [
    "There's not as much to do for the AirNow data. We'll just replace the latitude/longitude with a human-readable location."
   ]
  },
  {
   "cell_type": "code",
   "execution_count": 5,
   "id": "e81876ad",
   "metadata": {},
   "outputs": [
    {
     "data": {
      "text/html": [
       "<div>\n",
       "<style scoped>\n",
       "    .dataframe tbody tr th:only-of-type {\n",
       "        vertical-align: middle;\n",
       "    }\n",
       "\n",
       "    .dataframe tbody tr th {\n",
       "        vertical-align: top;\n",
       "    }\n",
       "\n",
       "    .dataframe thead th {\n",
       "        text-align: right;\n",
       "    }\n",
       "</style>\n",
       "<table border=\"1\" class=\"dataframe\">\n",
       "  <thead>\n",
       "    <tr style=\"text-align: right;\">\n",
       "      <th></th>\n",
       "      <th>season</th>\n",
       "      <th>date</th>\n",
       "      <th>pm25</th>\n",
       "      <th>sensor</th>\n",
       "    </tr>\n",
       "  </thead>\n",
       "  <tbody>\n",
       "    <tr>\n",
       "      <th>0</th>\n",
       "      <td>summer</td>\n",
       "      <td>07/04 02:00</td>\n",
       "      <td>10.5</td>\n",
       "      <td>Des Plaines</td>\n",
       "    </tr>\n",
       "    <tr>\n",
       "      <th>1</th>\n",
       "      <td>summer</td>\n",
       "      <td>07/04 03:00</td>\n",
       "      <td>12.2</td>\n",
       "      <td>Des Plaines</td>\n",
       "    </tr>\n",
       "    <tr>\n",
       "      <th>2</th>\n",
       "      <td>summer</td>\n",
       "      <td>07/04 04:00</td>\n",
       "      <td>16.1</td>\n",
       "      <td>Des Plaines</td>\n",
       "    </tr>\n",
       "    <tr>\n",
       "      <th>3</th>\n",
       "      <td>summer</td>\n",
       "      <td>07/04 05:00</td>\n",
       "      <td>18.1</td>\n",
       "      <td>Des Plaines</td>\n",
       "    </tr>\n",
       "    <tr>\n",
       "      <th>4</th>\n",
       "      <td>summer</td>\n",
       "      <td>07/04 06:00</td>\n",
       "      <td>16.6</td>\n",
       "      <td>Des Plaines</td>\n",
       "    </tr>\n",
       "  </tbody>\n",
       "</table>\n",
       "</div>"
      ],
      "text/plain": [
       "   season         date  pm25       sensor\n",
       "0  summer  07/04 02:00  10.5  Des Plaines\n",
       "1  summer  07/04 03:00  12.2  Des Plaines\n",
       "2  summer  07/04 04:00  16.1  Des Plaines\n",
       "3  summer  07/04 05:00  18.1  Des Plaines\n",
       "4  summer  07/04 06:00  16.6  Des Plaines"
      ]
     },
     "execution_count": 5,
     "metadata": {},
     "output_type": "execute_result"
    }
   ],
   "source": [
    "df_an = load_data('an')\n",
    "sensorCoords_an = df_an[['latitude', 'longitude']].drop_duplicates().sort_values(by='latitude').reset_index()\n",
    "locations_an = {0: 'Alsip',\n",
    "                1: 'Springfield Pump',\n",
    "                2: 'Cicero',\n",
    "                3: 'Com Ed',\n",
    "                4: 'Des Plaines'}               \n",
    "sensorCoords_an['sensor'] = locations_an.values()\n",
    "df_an = df_an.merge(sensorCoords_an[['latitude', 'longitude', 'sensor']],\n",
    "                    how='outer', on=['latitude', 'longitude'])\n",
    "df_an = df_an.drop(['latitude', 'longitude'], axis = 1)\n",
    "df_an.head()"
   ]
  },
  {
   "cell_type": "markdown",
   "id": "dad3c1e4",
   "metadata": {},
   "source": [
    "### Take daily averages"
   ]
  },
  {
   "cell_type": "markdown",
   "id": "f4807102",
   "metadata": {},
   "source": [
    "The PurpleAir data is recorded in 2 minute increments while the AirNow data is recorded hourly. We average the data to obtain daily values for the purposes of comparison. In particular, we average together all the PurpleAir McKinley Park sensors and average together all the AirNow sensors. As before, we carry the temperature and humidity measurements along for the ride."
   ]
  },
  {
   "cell_type": "code",
   "execution_count": 14,
   "id": "de91a1d1",
   "metadata": {},
   "outputs": [
    {
     "data": {
      "text/html": [
       "<div>\n",
       "<style scoped>\n",
       "    .dataframe tbody tr th:only-of-type {\n",
       "        vertical-align: middle;\n",
       "    }\n",
       "\n",
       "    .dataframe tbody tr th {\n",
       "        vertical-align: top;\n",
       "    }\n",
       "\n",
       "    .dataframe thead th {\n",
       "        text-align: right;\n",
       "    }\n",
       "</style>\n",
       "<table border=\"1\" class=\"dataframe\">\n",
       "  <thead>\n",
       "    <tr style=\"text-align: right;\">\n",
       "      <th></th>\n",
       "      <th>season</th>\n",
       "      <th>day</th>\n",
       "      <th>pm25</th>\n",
       "      <th>temperature_f</th>\n",
       "      <th>humidity_%</th>\n",
       "    </tr>\n",
       "  </thead>\n",
       "  <tbody>\n",
       "    <tr>\n",
       "      <th>0</th>\n",
       "      <td>autumn</td>\n",
       "      <td>10/05</td>\n",
       "      <td>10.7</td>\n",
       "      <td>70.6</td>\n",
       "      <td>69.2</td>\n",
       "    </tr>\n",
       "    <tr>\n",
       "      <th>1</th>\n",
       "      <td>autumn</td>\n",
       "      <td>10/06</td>\n",
       "      <td>27.3</td>\n",
       "      <td>70.6</td>\n",
       "      <td>71.5</td>\n",
       "    </tr>\n",
       "    <tr>\n",
       "      <th>2</th>\n",
       "      <td>autumn</td>\n",
       "      <td>10/07</td>\n",
       "      <td>23.1</td>\n",
       "      <td>73.2</td>\n",
       "      <td>72.2</td>\n",
       "    </tr>\n",
       "    <tr>\n",
       "      <th>3</th>\n",
       "      <td>autumn</td>\n",
       "      <td>10/08</td>\n",
       "      <td>21.4</td>\n",
       "      <td>74.6</td>\n",
       "      <td>66.2</td>\n",
       "    </tr>\n",
       "    <tr>\n",
       "      <th>4</th>\n",
       "      <td>autumn</td>\n",
       "      <td>10/09</td>\n",
       "      <td>21.1</td>\n",
       "      <td>76.1</td>\n",
       "      <td>61.8</td>\n",
       "    </tr>\n",
       "  </tbody>\n",
       "</table>\n",
       "</div>"
      ],
      "text/plain": [
       "   season    day  pm25  temperature_f  humidity_%\n",
       "0  autumn  10/05  10.7           70.6        69.2\n",
       "1  autumn  10/06  27.3           70.6        71.5\n",
       "2  autumn  10/07  23.1           73.2        72.2\n",
       "3  autumn  10/08  21.4           74.6        66.2\n",
       "4  autumn  10/09  21.1           76.1        61.8"
      ]
     },
     "execution_count": 14,
     "metadata": {},
     "output_type": "execute_result"
    }
   ],
   "source": [
    "df_pa_ab_avg['day'] = df_pa_ab_avg['date'].str.split(' ').apply(lambda x: x[0])\n",
    "daily_pa = df_pa_ab_avg.groupby(['season', 'day'], as_index = False)\n",
    "df_pa_daily = daily_pa[['pm25', 'temperature_f', 'humidity_%']].mean()\n",
    "df_pa_daily.head()"
   ]
  },
  {
   "cell_type": "code",
   "execution_count": 16,
   "id": "5b1f2842",
   "metadata": {},
   "outputs": [
    {
     "data": {
      "text/html": [
       "<div>\n",
       "<style scoped>\n",
       "    .dataframe tbody tr th:only-of-type {\n",
       "        vertical-align: middle;\n",
       "    }\n",
       "\n",
       "    .dataframe tbody tr th {\n",
       "        vertical-align: top;\n",
       "    }\n",
       "\n",
       "    .dataframe thead th {\n",
       "        text-align: right;\n",
       "    }\n",
       "</style>\n",
       "<table border=\"1\" class=\"dataframe\">\n",
       "  <thead>\n",
       "    <tr style=\"text-align: right;\">\n",
       "      <th></th>\n",
       "      <th>season</th>\n",
       "      <th>day</th>\n",
       "      <th>pm25</th>\n",
       "    </tr>\n",
       "  </thead>\n",
       "  <tbody>\n",
       "    <tr>\n",
       "      <th>0</th>\n",
       "      <td>autumn</td>\n",
       "      <td>10/05</td>\n",
       "      <td>6.5</td>\n",
       "    </tr>\n",
       "    <tr>\n",
       "      <th>1</th>\n",
       "      <td>autumn</td>\n",
       "      <td>10/06</td>\n",
       "      <td>11.9</td>\n",
       "    </tr>\n",
       "    <tr>\n",
       "      <th>2</th>\n",
       "      <td>autumn</td>\n",
       "      <td>10/07</td>\n",
       "      <td>10.7</td>\n",
       "    </tr>\n",
       "    <tr>\n",
       "      <th>3</th>\n",
       "      <td>autumn</td>\n",
       "      <td>10/08</td>\n",
       "      <td>7.8</td>\n",
       "    </tr>\n",
       "    <tr>\n",
       "      <th>4</th>\n",
       "      <td>autumn</td>\n",
       "      <td>10/09</td>\n",
       "      <td>10.9</td>\n",
       "    </tr>\n",
       "  </tbody>\n",
       "</table>\n",
       "</div>"
      ],
      "text/plain": [
       "   season    day  pm25\n",
       "0  autumn  10/05   6.5\n",
       "1  autumn  10/06  11.9\n",
       "2  autumn  10/07  10.7\n",
       "3  autumn  10/08   7.8\n",
       "4  autumn  10/09  10.9"
      ]
     },
     "execution_count": 16,
     "metadata": {},
     "output_type": "execute_result"
    }
   ],
   "source": [
    "df_an['day'] = df_an['date'].str.split(' ').apply(lambda x: x[0])\n",
    "daily_an = df_an.groupby(['season', 'day'], as_index = False)\n",
    "df_an_daily = daily_an[['pm25']].mean()\n",
    "df_an_daily.head()"
   ]
  },
  {
   "cell_type": "markdown",
   "id": "21523bb3",
   "metadata": {},
   "source": [
    "For convenience of comparison, we combine both DataFrames."
   ]
  },
  {
   "cell_type": "code",
   "execution_count": 62,
   "id": "9204d036",
   "metadata": {},
   "outputs": [
    {
     "data": {
      "text/html": [
       "<div>\n",
       "<style scoped>\n",
       "    .dataframe tbody tr th:only-of-type {\n",
       "        vertical-align: middle;\n",
       "    }\n",
       "\n",
       "    .dataframe tbody tr th {\n",
       "        vertical-align: top;\n",
       "    }\n",
       "\n",
       "    .dataframe thead th {\n",
       "        text-align: right;\n",
       "    }\n",
       "</style>\n",
       "<table border=\"1\" class=\"dataframe\">\n",
       "  <thead>\n",
       "    <tr style=\"text-align: right;\">\n",
       "      <th></th>\n",
       "      <th>season</th>\n",
       "      <th>day</th>\n",
       "      <th>pm25_pa</th>\n",
       "      <th>temperature_f</th>\n",
       "      <th>humidity_%</th>\n",
       "      <th>pm25_an</th>\n",
       "    </tr>\n",
       "  </thead>\n",
       "  <tbody>\n",
       "    <tr>\n",
       "      <th>0</th>\n",
       "      <td>autumn</td>\n",
       "      <td>10/05</td>\n",
       "      <td>10.7</td>\n",
       "      <td>70.6</td>\n",
       "      <td>69.2</td>\n",
       "      <td>6.5</td>\n",
       "    </tr>\n",
       "    <tr>\n",
       "      <th>1</th>\n",
       "      <td>autumn</td>\n",
       "      <td>10/06</td>\n",
       "      <td>27.3</td>\n",
       "      <td>70.6</td>\n",
       "      <td>71.5</td>\n",
       "      <td>11.9</td>\n",
       "    </tr>\n",
       "    <tr>\n",
       "      <th>2</th>\n",
       "      <td>autumn</td>\n",
       "      <td>10/07</td>\n",
       "      <td>23.1</td>\n",
       "      <td>73.2</td>\n",
       "      <td>72.2</td>\n",
       "      <td>10.7</td>\n",
       "    </tr>\n",
       "    <tr>\n",
       "      <th>3</th>\n",
       "      <td>autumn</td>\n",
       "      <td>10/08</td>\n",
       "      <td>21.4</td>\n",
       "      <td>74.6</td>\n",
       "      <td>66.2</td>\n",
       "      <td>7.8</td>\n",
       "    </tr>\n",
       "    <tr>\n",
       "      <th>4</th>\n",
       "      <td>autumn</td>\n",
       "      <td>10/09</td>\n",
       "      <td>21.1</td>\n",
       "      <td>76.1</td>\n",
       "      <td>61.8</td>\n",
       "      <td>10.9</td>\n",
       "    </tr>\n",
       "  </tbody>\n",
       "</table>\n",
       "</div>"
      ],
      "text/plain": [
       "   season    day  pm25_pa  temperature_f  humidity_%  pm25_an\n",
       "0  autumn  10/05     10.7           70.6        69.2      6.5\n",
       "1  autumn  10/06     27.3           70.6        71.5     11.9\n",
       "2  autumn  10/07     23.1           73.2        72.2     10.7\n",
       "3  autumn  10/08     21.4           74.6        66.2      7.8\n",
       "4  autumn  10/09     21.1           76.1        61.8     10.9"
      ]
     },
     "execution_count": 62,
     "metadata": {},
     "output_type": "execute_result"
    }
   ],
   "source": [
    "df_daily = df_pa_daily.merge(df_an_daily, left_on = 'day', right_on = 'day').rename(columns = {'pm25_x': 'pm25_pa', 'pm25_y': 'pm25_an', 'season_x': 'season'})\n",
    "del df_daily['season_y']\n",
    "df_daily.head()"
   ]
  },
  {
   "cell_type": "markdown",
   "id": "c7bc7cbb",
   "metadata": {},
   "source": [
    "### Short aside on relative humidity"
   ]
  },
  {
   "cell_type": "markdown",
   "id": "3fe41f42",
   "metadata": {},
   "source": [
    "Relative humidity can have a significant impact on particulate matter sensors, as high relative humidity causes particles to swell in size. Some of the accuracy correction formulae involve relative humidity, so we might ask whether the humidity accounts for some of the variation between the two datasets. The scatterplot below is a bit muddled, so it's hard to say. There is higher variation in the two datasets during the summer, so the orange peak does not seem to be indicating any sort of trend."
   ]
  },
  {
   "cell_type": "code",
   "execution_count": 103,
   "id": "8a8a46c2",
   "metadata": {},
   "outputs": [
    {
     "data": {
      "image/png": "[encoded data removed]",
      "text/plain": [
       "<Figure size 864x720 with 1 Axes>"
      ]
     },
     "metadata": {
      "needs_background": "light"
     },
     "output_type": "display_data"
    }
   ],
   "source": [
    "fig, ax = plt.subplots(figsize=(12,10))\n",
    "daily_diff = df_daily['pm25_pa'] - df_daily['pm25_an']\n",
    "\n",
    "sns.scatterplot(data = df_daily, x = df_daily['humidity_%'], y = daily_diff, hue = 'season', ax = ax);\n",
    "\n",
    "ax.spines['top'].set_visible(False)\n",
    "ax.spines['right'].set_visible(False)\n",
    "\n",
    "ax.set_xlabel('% Average relative humidity of PurpleAir sensors', fontsize=14)\n",
    "ax.set_ylabel('Uncorrected PurpleAir PM2.5 - AirNow PM2.5 (ug/m^3)', fontsize=14)\n",
    "ax.set_title('Seasonal relative humidity and differences in sensor data', fontsize=14);"
   ]
  },
  {
   "cell_type": "markdown",
   "id": "1b02ce04",
   "metadata": {},
   "source": [
    "### US EPA accuracy correction [1]"
   ]
  },
  {
   "cell_type": "markdown",
   "id": "c48b511d",
   "metadata": {},
   "source": [
    "We now use the EPA's accuracy correction formula from [1], which takes into account the relative humidity measured in the PurpleAir sensor. Note that this correction formula underestimates concentrations when the PM2.5 is greater than 250 ug/m^3. These are levels that we don't tend to see in Chicago, thankfully."
   ]
  },
  {
   "cell_type": "code",
   "execution_count": 76,
   "id": "23009454",
   "metadata": {
    "scrolled": true
   },
   "outputs": [
    {
     "data": {
      "text/html": [
       "<div>\n",
       "<style scoped>\n",
       "    .dataframe tbody tr th:only-of-type {\n",
       "        vertical-align: middle;\n",
       "    }\n",
       "\n",
       "    .dataframe tbody tr th {\n",
       "        vertical-align: top;\n",
       "    }\n",
       "\n",
       "    .dataframe thead th {\n",
       "        text-align: right;\n",
       "    }\n",
       "</style>\n",
       "<table border=\"1\" class=\"dataframe\">\n",
       "  <thead>\n",
       "    <tr style=\"text-align: right;\">\n",
       "      <th></th>\n",
       "      <th>season</th>\n",
       "      <th>day</th>\n",
       "      <th>pm25_pa</th>\n",
       "      <th>temperature_f</th>\n",
       "      <th>humidity_%</th>\n",
       "      <th>pm25_an</th>\n",
       "      <th>pm25_pa_corr_epa</th>\n",
       "    </tr>\n",
       "  </thead>\n",
       "  <tbody>\n",
       "    <tr>\n",
       "      <th>0</th>\n",
       "      <td>autumn</td>\n",
       "      <td>10/05</td>\n",
       "      <td>10.7</td>\n",
       "      <td>70.6</td>\n",
       "      <td>69.2</td>\n",
       "      <td>6.5</td>\n",
       "      <td>5.4</td>\n",
       "    </tr>\n",
       "    <tr>\n",
       "      <th>1</th>\n",
       "      <td>autumn</td>\n",
       "      <td>10/06</td>\n",
       "      <td>27.3</td>\n",
       "      <td>70.6</td>\n",
       "      <td>71.5</td>\n",
       "      <td>11.9</td>\n",
       "      <td>13.8</td>\n",
       "    </tr>\n",
       "    <tr>\n",
       "      <th>2</th>\n",
       "      <td>autumn</td>\n",
       "      <td>10/07</td>\n",
       "      <td>23.1</td>\n",
       "      <td>73.2</td>\n",
       "      <td>72.2</td>\n",
       "      <td>10.7</td>\n",
       "      <td>11.6</td>\n",
       "    </tr>\n",
       "    <tr>\n",
       "      <th>3</th>\n",
       "      <td>autumn</td>\n",
       "      <td>10/08</td>\n",
       "      <td>21.4</td>\n",
       "      <td>74.6</td>\n",
       "      <td>66.2</td>\n",
       "      <td>7.8</td>\n",
       "      <td>11.2</td>\n",
       "    </tr>\n",
       "    <tr>\n",
       "      <th>4</th>\n",
       "      <td>autumn</td>\n",
       "      <td>10/09</td>\n",
       "      <td>21.1</td>\n",
       "      <td>76.1</td>\n",
       "      <td>61.8</td>\n",
       "      <td>10.9</td>\n",
       "      <td>11.4</td>\n",
       "    </tr>\n",
       "  </tbody>\n",
       "</table>\n",
       "</div>"
      ],
      "text/plain": [
       "   season    day  pm25_pa  temperature_f  humidity_%  pm25_an  \\\n",
       "0  autumn  10/05     10.7           70.6        69.2      6.5   \n",
       "1  autumn  10/06     27.3           70.6        71.5     11.9   \n",
       "2  autumn  10/07     23.1           73.2        72.2     10.7   \n",
       "3  autumn  10/08     21.4           74.6        66.2      7.8   \n",
       "4  autumn  10/09     21.1           76.1        61.8     10.9   \n",
       "\n",
       "   pm25_pa_corr_epa  \n",
       "0               5.4  \n",
       "1              13.8  \n",
       "2              11.6  \n",
       "3              11.2  \n",
       "4              11.4  "
      ]
     },
     "execution_count": 76,
     "metadata": {},
     "output_type": "execute_result"
    }
   ],
   "source": [
    "def correction_epa(pm25, rh):\n",
    "    return 0.52 * pm25 - 0.085 * rh + 5.71\n",
    "\n",
    "# apply the correction row-wise\n",
    "df_daily['pm25_pa_corr_epa'] = df_daily.apply(lambda row: correction_epa(row['pm25_pa'], row['humidity_%']), axis = 1)\n",
    "df_daily.head()"
   ]
  },
  {
   "cell_type": "markdown",
   "id": "4b17fee0",
   "metadata": {},
   "source": [
    "### Correlation between PA and AN"
   ]
  },
  {
   "cell_type": "markdown",
   "id": "3a7cc682",
   "metadata": {},
   "source": [
    "Directly comparing the two datasets, we see that while they are tightly correlated, the uncorrected PurpleAir sensors record significantly higher PM2.5 readings. Under the null hypothesis (that is, there is no significant difference between the PurpleAir and AirNow readings), this would be consistent with the claims from [1], [2], etc. that the PurpleAir readings tend to be almost twice as high as those from FRMs/FEMs. Applying the EPA correction brings the PurpleAir data much closer in line with the AirNow data."
   ]
  },
  {
   "cell_type": "code",
   "execution_count": 102,
   "id": "5e307bb5",
   "metadata": {},
   "outputs": [
    {
     "data": {
      "image/png": "[encoded data removed]",
      "text/plain": [
       "<Figure size 864x720 with 1 Axes>"
      ]
     },
     "metadata": {
      "needs_background": "light"
     },
     "output_type": "display_data"
    }
   ],
   "source": [
    "fig, ax = plt.subplots(figsize = (12, 10))\n",
    "\n",
    "ax = sns.regplot(x = 'pm25_an', y = 'pm25_pa', data = df_daily, ax = ax, line_kws = {'color': 'green'})\n",
    "ax = sns.regplot(x = 'pm25_an', y = 'pm25_pa_corr_epa', data = df_daily, ax = ax, color = 'orange', line_kws = {'color': 'red'})\n",
    "ax.text(x = 5, y = 50, s = f'Pearson Correlation = {df_daily[\"pm25_pa\"].corr(df_daily[\"pm25_an\"]):.4f}')\n",
    "\n",
    "# get the equations for the linear regression lines\n",
    "text_positions = [(20, 55), (20, 18)]\n",
    "for i in range(2):\n",
    "    line_xs = ax.get_lines()[i].get_xdata()\n",
    "    line_ys = ax.get_lines()[i].get_ydata()\n",
    "    slope = (line_ys[1] - line_ys[0]) / (line_xs[1] - line_xs[0])\n",
    "    y_intercept = line_ys[0] - slope * line_xs[0]\n",
    "    ax.text(x = text_positions[i][0], y = text_positions[i][1], s= f'y = {slope:.2f}x + {y_intercept:.2f}')\n",
    "\n",
    "plt.legend(labels = ['Uncorrected PurpleAir', 'US EPA corrected PurpleAir'])\n",
    "    \n",
    "ax.spines['top'].set_visible(False)\n",
    "ax.spines['right'].set_visible(False)\n",
    "\n",
    "ax.set_xlabel('AirNow PM2.5 (ug/m^3)', fontsize = 14)\n",
    "ax.set_ylabel('PurpleAir PM2.5 (ug/m^3)', fontsize = 14)\n",
    "ax.set_title('PurpleAir PM2.5 tightly correlated with EPA AirNow', fontsize = 14)\n",
    "plt.savefig('../figures/acc_corr_mckinley_epa_correlation.png', bbox_inches='tight');"
   ]
  },
  {
   "cell_type": "markdown",
   "id": "0c620696",
   "metadata": {},
   "source": [
    "### Seasonal distribution of PM2.5 readings"
   ]
  },
  {
   "cell_type": "markdown",
   "id": "2711a1ea",
   "metadata": {},
   "source": [
    "The following plots show the seasonal distributions of the PM2.5 readings, both uncorrected and corrected. Evidently there is higher PM2.5 as well as higher variance in PM2.5 during the summer in both data sets. Again, we see that the US EPA correction factor brings the PurpleAir data closer in line with the AirNow data, especially when split seasonally."
   ]
  },
  {
   "cell_type": "code",
   "execution_count": 96,
   "id": "67582080",
   "metadata": {},
   "outputs": [],
   "source": [
    "df_daily_melt = df_daily[['season', 'day', 'pm25_pa', 'pm25_pa_corr_epa', 'pm25_an']].melt(id_vars = ['day', 'season'])\n",
    "df_daily_melt = df_daily_melt.rename(columns = {'variable': 'type', 'value': 'pm25'})"
   ]
  },
  {
   "cell_type": "code",
   "execution_count": 106,
   "id": "9d7dd1b8",
   "metadata": {},
   "outputs": [
    {
     "data": {
      "image/png": "[encoded data removed]",
      "text/plain": [
       "<Figure size 432x720 with 1 Axes>"
      ]
     },
     "metadata": {
      "needs_background": "light"
     },
     "output_type": "display_data"
    }
   ],
   "source": [
    "fig, ax = plt.subplots(figsize = (6, 10))\n",
    "sns.boxplot(data = df_daily_melt, x = 'type', y = 'pm25', hue='season', ax=ax)\n",
    "\n",
    "ax.set_xticklabels(['PurpleAir', 'US EPA corrected PurpleAir', 'AirNow'])\n",
    "\n",
    "ax.spines['top'].set_visible(False)\n",
    "ax.spines['right'].set_visible(False)\n",
    "\n",
    "ax.set_xlabel(None)\n",
    "ax.set_ylabel('PM2.5 Concentration (ug/m^3)')\n",
    "ax.set_title('PM2.5 distributions higher in mean and variance during the summer')\n",
    "plt.savefig('../figures/acc_corr_mckinley_epa_pm25_seasonal_dist.png');"
   ]
  },
  {
   "cell_type": "markdown",
   "id": "c10f6d50",
   "metadata": {},
   "source": [
    "### Daily differences"
   ]
  },
  {
   "cell_type": "markdown",
   "id": "7b8bbf7d",
   "metadata": {},
   "source": [
    "### Daily AQI categories"
   ]
  }
 ],
 "metadata": {
  "kernelspec": {
   "display_name": "Python 3 (ipykernel)",
   "language": "python",
   "name": "python3"
  },
  "language_info": {
   "codemirror_mode": {
    "name": "ipython",
    "version": 3
   },
   "file_extension": ".py",
   "mimetype": "text/x-python",
   "name": "python",
   "nbconvert_exporter": "python",
   "pygments_lexer": "ipython3",
   "version": "3.9.7"
  }
 },
 "nbformat": 4,
 "nbformat_minor": 5
}
