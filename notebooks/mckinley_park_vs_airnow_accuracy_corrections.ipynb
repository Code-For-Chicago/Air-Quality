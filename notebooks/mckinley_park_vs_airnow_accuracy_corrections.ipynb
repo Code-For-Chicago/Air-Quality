{
 "cells": [
  {
   "cell_type": "code",
   "execution_count": null,
   "id": "dbb4fed1",
   "metadata": {},
   "outputs": [],
   "source": []
  },
  {
   "cell_type": "markdown",
   "id": "b14d5f55",
   "metadata": {},
   "source": [
    "# Comparing McKinley Park's PurpleAir (PA) sensors to EPA AirNow's (AN) sensors using accuracy correction formulae\n",
    "\n",
    "In this notebook we recreate the analysis from the `compare_airnow_and_purpleair` notebook but we take into account various correction formulae for the PA sensors found in the literature."
   ]
  },
  {
   "cell_type": "markdown",
   "id": "07d4b22a",
   "metadata": {},
   "source": [
    "## TODO Literature review\n",
    "\n",
    "In this section we briefly review some of the literature that compares the PM2.5 measurements of the PurpleAir sensors to that of other sensors.\n",
    "\n",
    "###  Basic notions\n",
    "\n",
    "### Comparisons and correction formulae\n",
    "\n",
    "### References\n",
    "\n",
    "[1] https://cfpub.epa.gov/si/si_public_record_Report.cfm?dirEntryId=350075&Lab=CEMM\n",
    "\n",
    "[2] https://www.sciencedirect.com/science/article/abs/pii/S135223102100251X\n",
    "\n",
    "[3] https://api.purpleair.com/\n",
    "\n",
    "[4] https://map.purpleair.com\n",
    "\n",
    "[5] http://lar.wsu.edu/nw-airquest/docs/20200610_meeting/NWAQ_20200611_1030_Hadley.pdf"
   ]
  },
  {
   "cell_type": "markdown",
   "id": "a4475de9",
   "metadata": {},
   "source": [
    "## Analysis"
   ]
  },
  {
   "cell_type": "markdown",
   "id": "9d210093",
   "metadata": {},
   "source": [
    "### Imports and utility"
   ]
  },
  {
   "cell_type": "code",
   "execution_count": 83,
   "id": "3fd3d1f7",
   "metadata": {},
   "outputs": [],
   "source": [
    "import matplotlib.pyplot as plt\n",
    "import numpy as np\n",
    "import pandas as pd\n",
    "import seaborn as sns\n",
    "\n",
    "pd.options.display.precision = 1\n",
    "\n",
    "PATH = '../data/'\n",
    "SEASONS = ['summer', 'autumn']\n",
    "FILE_STUBS = {'an': '_2021_airnow',\n",
    "              'pa': '_2021_pa_'}\n",
    "CHANNELS = {'a': 'parent',\n",
    "            'b': 'child'}\n",
    "\n",
    "# features of interest (and how we'll rename them)\n",
    "COLUMNS = {'pa': {'season': 'season',\n",
    "                  'sensor': 'sensor',\n",
    "                  'created_at': 'date',\n",
    "                  'pm2.5_(cf=1)_ug/m3': 'pm25_cf_1',\n",
    "                  'pm2.5_(cf=atm)_ug/m3': 'pm25_cf_atm',\n",
    "                  'temperature_f': 'temperature_f',\n",
    "                  'humidity_%': 'humidity_%'},\n",
    "           'an': {'season': 'season',\n",
    "                  'latitude': 'latitude',\n",
    "                  'longitude': 'longitude',\n",
    "                  'datetime': 'date',\n",
    "                  'concentration': 'pm25'}}"
   ]
  },
  {
   "cell_type": "markdown",
   "id": "4dad8b47",
   "metadata": {},
   "source": [
    "### Load data into PA and AN DataFrames\n",
    "\n",
    "Each DataFrame contains data for PM2.5, humidity, etc. for both seasons. Following [1], the PurpleAir data is averaged over the parent and child data (A and B channels) when possible. From the PA sensors, we keep only those located in McKinley Park, which is our region of interest.\n",
    "\n",
    "#### TODO what happens when the A and B channels differ significantly?"
   ]
  },
  {
   "cell_type": "code",
   "execution_count": 84,
   "id": "69eb35ee",
   "metadata": {},
   "outputs": [],
   "source": [
    "def load_data(dataset):\n",
    "    # TODO documentation\n",
    "    \n",
    "    df = pd.DataFrame()\n",
    "    \n",
    "    if dataset == 'pa':\n",
    "        for season in SEASONS:\n",
    "            for channel in CHANNELS.keys():\n",
    "                filename = f'{PATH}{season}{FILE_STUBS[dataset]}{CHANNELS[channel]}.csv'\n",
    "                df_season_channel = pd.read_csv(filename)\n",
    "                df_season_channel['season'] = season\n",
    "                df = df.append(df_season_channel)\n",
    "        \n",
    "    elif dataset == 'an':\n",
    "        for season in SEASONS:\n",
    "            filename = f'{PATH}{season}{FILE_STUBS[dataset]}.csv'\n",
    "            df_season = pd.read_csv(filename)\n",
    "            # keep only PM2.5 data\n",
    "            df_season = df_season[df_season['Parameter'] == 'PM2.5']\n",
    "            df_season['season'] = season\n",
    "            df = df.append(df_season)\n",
    "        \n",
    "    else:\n",
    "        raise ValueError(f'Could not find dataset {dataset}!')\n",
    "        \n",
    "    # clean up headers, prune extraneous data\n",
    "    df.columns = df.columns.str.lower().str.replace(' ', '_')\n",
    "    df = df[list(COLUMNS[dataset].keys())]\n",
    "    df.rename(columns = COLUMNS[dataset], inplace = True)\n",
    "    \n",
    "    # convert date format to 'mm-yy HH:mm' (24hour time)\n",
    "    df['date'] = pd.to_datetime(df['date'])\n",
    "    df['date'] = df['date'].dt.strftime('%m/%d %H:%M')\n",
    "    \n",
    "    # for PurpleAir data, average the PM2.5 readings between the a and b channels\n",
    "    # and keep the humidity and temperature readings, which are only present in the a channel\n",
    "    \n",
    "    return df"
   ]
  },
  {
   "cell_type": "markdown",
   "id": "72cded40",
   "metadata": {},
   "source": [
    "For the PurpleAir data, we'll average the PM2.5 readings between the a and b channels (throwing away any points for which one is missing). We'll use the PM2.5 CF=1 data, and moreover, keep the temperature and humidity data, which is only present on the a channel.\n",
    "\n",
    "The a channel and b channel have sensor IDs that differ by 1."
   ]
  },
  {
   "cell_type": "code",
   "execution_count": 90,
   "id": "ee7a003e",
   "metadata": {},
   "outputs": [
    {
     "data": {
      "text/html": [
       "<div>\n",
       "<style scoped>\n",
       "    .dataframe tbody tr th:only-of-type {\n",
       "        vertical-align: middle;\n",
       "    }\n",
       "\n",
       "    .dataframe tbody tr th {\n",
       "        vertical-align: top;\n",
       "    }\n",
       "\n",
       "    .dataframe thead th {\n",
       "        text-align: right;\n",
       "    }\n",
       "</style>\n",
       "<table border=\"1\" class=\"dataframe\">\n",
       "  <thead>\n",
       "    <tr style=\"text-align: right;\">\n",
       "      <th></th>\n",
       "      <th>season</th>\n",
       "      <th>sensor</th>\n",
       "      <th>date</th>\n",
       "      <th>pm25</th>\n",
       "      <th>temperature_f</th>\n",
       "      <th>humidity_%</th>\n",
       "    </tr>\n",
       "  </thead>\n",
       "  <tbody>\n",
       "    <tr>\n",
       "      <th>0</th>\n",
       "      <td>summer</td>\n",
       "      <td>36th and Paulina</td>\n",
       "      <td>07/25 00:01</td>\n",
       "      <td>15.3</td>\n",
       "      <td>87.0</td>\n",
       "      <td>65.0</td>\n",
       "    </tr>\n",
       "    <tr>\n",
       "      <th>1</th>\n",
       "      <td>summer</td>\n",
       "      <td>36th and Paulina</td>\n",
       "      <td>07/25 00:03</td>\n",
       "      <td>13.7</td>\n",
       "      <td>87.0</td>\n",
       "      <td>66.0</td>\n",
       "    </tr>\n",
       "    <tr>\n",
       "      <th>2</th>\n",
       "      <td>summer</td>\n",
       "      <td>36th and Paulina</td>\n",
       "      <td>07/25 00:05</td>\n",
       "      <td>14.8</td>\n",
       "      <td>86.0</td>\n",
       "      <td>67.0</td>\n",
       "    </tr>\n",
       "    <tr>\n",
       "      <th>3</th>\n",
       "      <td>summer</td>\n",
       "      <td>36th and Paulina</td>\n",
       "      <td>07/25 00:07</td>\n",
       "      <td>17.7</td>\n",
       "      <td>87.0</td>\n",
       "      <td>67.0</td>\n",
       "    </tr>\n",
       "    <tr>\n",
       "      <th>4</th>\n",
       "      <td>summer</td>\n",
       "      <td>36th and Paulina</td>\n",
       "      <td>07/25 00:09</td>\n",
       "      <td>18.4</td>\n",
       "      <td>87.0</td>\n",
       "      <td>66.0</td>\n",
       "    </tr>\n",
       "  </tbody>\n",
       "</table>\n",
       "</div>"
      ],
      "text/plain": [
       "   season            sensor         date  pm25  temperature_f  humidity_%\n",
       "0  summer  36th and Paulina  07/25 00:01  15.3           87.0        65.0\n",
       "1  summer  36th and Paulina  07/25 00:03  13.7           87.0        66.0\n",
       "2  summer  36th and Paulina  07/25 00:05  14.8           86.0        67.0\n",
       "3  summer  36th and Paulina  07/25 00:07  17.7           87.0        67.0\n",
       "4  summer  36th and Paulina  07/25 00:09  18.4           87.0        66.0"
      ]
     },
     "execution_count": 90,
     "metadata": {},
     "output_type": "execute_result"
    }
   ],
   "source": [
    "df_pa = load_data('pa')\n",
    "\n",
    "SENSOR_PAIRS = {'36th and Paulina': (96035, 96036),\n",
    "                '38th & Winchester': (96395, 96396),\n",
    "                '39th and Damen (NLEI)': (94975, 94976)}\n",
    "\n",
    "df_pa_ab_avg = pd.DataFrame()\n",
    "for monitor in SENSOR_PAIRS.keys():\n",
    "    df_a = df_pa[df_pa['sensor'] == SENSOR_PAIRS[monitor][0]]\n",
    "    df_b = df_pa[df_pa['sensor'] == SENSOR_PAIRS[monitor][1]][['date', 'pm25_cf_1']]\n",
    "    \n",
    "    df_merged = df_a.merge(df_b, left_on = 'date', right_on = 'date')\n",
    "    df_merged['pm25'] = (df_merged['pm25_cf_1_x'] + df_merged['pm25_cf_1_y']) / 2\n",
    "    df_merged['sensor'] = monitor\n",
    "    df_merged = df_merged[['season', 'sensor', 'date', 'pm25', 'temperature_f', 'humidity_%']]\n",
    "    \n",
    "    df_pa_ab_avg = df_pa_ab_avg.append(df_merged)\n",
    "\n",
    "df_pa_ab_avg.head()"
   ]
  },
  {
   "cell_type": "markdown",
   "id": "d0c2f740",
   "metadata": {},
   "source": [
    "There's not as much to do for the AirNow data. We'll just replace the latitude/longitude with a human-readable location."
   ]
  },
  {
   "cell_type": "code",
   "execution_count": 99,
   "id": "e81876ad",
   "metadata": {},
   "outputs": [
    {
     "data": {
      "text/html": [
       "<div>\n",
       "<style scoped>\n",
       "    .dataframe tbody tr th:only-of-type {\n",
       "        vertical-align: middle;\n",
       "    }\n",
       "\n",
       "    .dataframe tbody tr th {\n",
       "        vertical-align: top;\n",
       "    }\n",
       "\n",
       "    .dataframe thead th {\n",
       "        text-align: right;\n",
       "    }\n",
       "</style>\n",
       "<table border=\"1\" class=\"dataframe\">\n",
       "  <thead>\n",
       "    <tr style=\"text-align: right;\">\n",
       "      <th></th>\n",
       "      <th>season</th>\n",
       "      <th>date</th>\n",
       "      <th>pm25</th>\n",
       "      <th>sensor</th>\n",
       "    </tr>\n",
       "  </thead>\n",
       "  <tbody>\n",
       "    <tr>\n",
       "      <th>0</th>\n",
       "      <td>summer</td>\n",
       "      <td>07/04 02:00</td>\n",
       "      <td>10.5</td>\n",
       "      <td>Des Plaines</td>\n",
       "    </tr>\n",
       "    <tr>\n",
       "      <th>1</th>\n",
       "      <td>summer</td>\n",
       "      <td>07/04 03:00</td>\n",
       "      <td>12.2</td>\n",
       "      <td>Des Plaines</td>\n",
       "    </tr>\n",
       "    <tr>\n",
       "      <th>2</th>\n",
       "      <td>summer</td>\n",
       "      <td>07/04 04:00</td>\n",
       "      <td>16.1</td>\n",
       "      <td>Des Plaines</td>\n",
       "    </tr>\n",
       "    <tr>\n",
       "      <th>3</th>\n",
       "      <td>summer</td>\n",
       "      <td>07/04 05:00</td>\n",
       "      <td>18.1</td>\n",
       "      <td>Des Plaines</td>\n",
       "    </tr>\n",
       "    <tr>\n",
       "      <th>4</th>\n",
       "      <td>summer</td>\n",
       "      <td>07/04 06:00</td>\n",
       "      <td>16.6</td>\n",
       "      <td>Des Plaines</td>\n",
       "    </tr>\n",
       "  </tbody>\n",
       "</table>\n",
       "</div>"
      ],
      "text/plain": [
       "   season         date  pm25       sensor\n",
       "0  summer  07/04 02:00  10.5  Des Plaines\n",
       "1  summer  07/04 03:00  12.2  Des Plaines\n",
       "2  summer  07/04 04:00  16.1  Des Plaines\n",
       "3  summer  07/04 05:00  18.1  Des Plaines\n",
       "4  summer  07/04 06:00  16.6  Des Plaines"
      ]
     },
     "execution_count": 99,
     "metadata": {},
     "output_type": "execute_result"
    }
   ],
   "source": [
    "df_an = load_data('an')\n",
    "sensorCoords_an = df_an[['latitude', 'longitude']].drop_duplicates().sort_values(by='latitude').reset_index()\n",
    "locations_an = {0: 'Alsip',\n",
    "                1: 'Springfield Pump',\n",
    "                2: 'Cicero',\n",
    "                3: 'Com Ed',\n",
    "                4: 'Des Plaines'}               \n",
    "sensorCoords_an['sensor'] = locations_an.values()\n",
    "df_an = df_an.merge(sensorCoords_an[['latitude', 'longitude', 'sensor']],\n",
    "                    how='outer', on=['latitude', 'longitude'])\n",
    "df_an = df_an.drop(['latitude', 'longitude'], axis = 1)\n",
    "df_an.head()"
   ]
  },
  {
   "cell_type": "markdown",
   "id": "dad3c1e4",
   "metadata": {},
   "source": [
    "### Take daily averages, plot the correlation, compare"
   ]
  },
  {
   "cell_type": "markdown",
   "id": "aa2eb8f8",
   "metadata": {},
   "source": [
    "### Apply accuracy correction formulae, compare"
   ]
  },
  {
   "cell_type": "code",
   "execution_count": null,
   "id": "0753ca31",
   "metadata": {},
   "outputs": [],
   "source": []
  }
 ],
 "metadata": {
  "kernelspec": {
   "display_name": "Python 3 (ipykernel)",
   "language": "python",
   "name": "python3"
  },
  "language_info": {
   "codemirror_mode": {
    "name": "ipython",
    "version": 3
   },
   "file_extension": ".py",
   "mimetype": "text/x-python",
   "name": "python",
   "nbconvert_exporter": "python",
   "pygments_lexer": "ipython3",
   "version": "3.9.7"
  }
 },
 "nbformat": 4,
 "nbformat_minor": 5
}
