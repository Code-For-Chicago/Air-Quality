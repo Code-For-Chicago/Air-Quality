{
 "cells": [
  {
   "cell_type": "markdown",
   "id": "b14d5f55",
   "metadata": {},
   "source": [
    "# Spatial variations in Chicago's PurpleAir sensor data\n",
    "\n",
    "There is evidence [1] that there tends to be significant variation in the PM2.5 concentration within urban areas (say, neighborhood to neighborhood) and that health outcomes are correlated with these variations. In this notebook, we consider the concentrations measured by the PurpleAir sensors throughout the Chicago area and study how they vary in space.\n",
    "\n",
    "[1] Long-Term Exposure to Air Pollution and Incidence of Cardiovascular Events in Women. DOI: https://doi.org/10.1056/nejmoa054409"
   ]
  },
  {
   "cell_type": "markdown",
   "id": "a4475de9",
   "metadata": {},
   "source": [
    "## Analysis"
   ]
  },
  {
   "cell_type": "markdown",
   "id": "9d210093",
   "metadata": {},
   "source": [
    "### Imports and utility"
   ]
  },
  {
   "cell_type": "code",
   "execution_count": 45,
   "id": "3fd3d1f7",
   "metadata": {},
   "outputs": [],
   "source": [
    "from datetime import timedelta\n",
    "\n",
    "import matplotlib.pyplot as plt\n",
    "import numpy as np\n",
    "import pandas as pd\n",
    "import seaborn as sns\n",
    "\n",
    "pd.options.display.precision = 1"
   ]
  },
  {
   "cell_type": "markdown",
   "id": "7979bf58",
   "metadata": {},
   "source": [
    "Note that in this notebook (unlike some of our other notebooks), both `a` and `b` channels associated to a sensor are assigned the same `sensorID`. In other notebooks the two channels' IDs differ by 1."
   ]
  },
  {
   "cell_type": "markdown",
   "id": "dfb556f2",
   "metadata": {},
   "source": [
    "The datetime column is a bit hard to work with for data exploration/visualization purposes, so we'll add a column that measures the hours elapsed from the minimum value observed in the whole DataFrame."
   ]
  },
  {
   "cell_type": "code",
   "execution_count": 58,
   "id": "87d197a2",
   "metadata": {},
   "outputs": [
    {
     "data": {
      "text/html": [
       "<div>\n",
       "<style scoped>\n",
       "    .dataframe tbody tr th:only-of-type {\n",
       "        vertical-align: middle;\n",
       "    }\n",
       "\n",
       "    .dataframe tbody tr th {\n",
       "        vertical-align: top;\n",
       "    }\n",
       "\n",
       "    .dataframe thead th {\n",
       "        text-align: right;\n",
       "    }\n",
       "</style>\n",
       "<table border=\"1\" class=\"dataframe\">\n",
       "  <thead>\n",
       "    <tr style=\"text-align: right;\">\n",
       "      <th></th>\n",
       "      <th>sensorID</th>\n",
       "      <th>latitude</th>\n",
       "      <th>longitude</th>\n",
       "      <th>name</th>\n",
       "      <th>channel</th>\n",
       "      <th>datetime</th>\n",
       "      <th>pm25</th>\n",
       "      <th>temp</th>\n",
       "      <th>rh</th>\n",
       "      <th>hours_elapsed</th>\n",
       "    </tr>\n",
       "  </thead>\n",
       "  <tbody>\n",
       "    <tr>\n",
       "      <th>0</th>\n",
       "      <td>3499</td>\n",
       "      <td>41.9</td>\n",
       "      <td>-87.7</td>\n",
       "      <td>Ukrainian Village</td>\n",
       "      <td>a</td>\n",
       "      <td>2022-01-30 00:00:22+00:00</td>\n",
       "      <td>0.0</td>\n",
       "      <td>26.0</td>\n",
       "      <td>42.0</td>\n",
       "      <td>5.8e-03</td>\n",
       "    </tr>\n",
       "    <tr>\n",
       "      <th>1</th>\n",
       "      <td>3499</td>\n",
       "      <td>41.9</td>\n",
       "      <td>-87.7</td>\n",
       "      <td>Ukrainian Village</td>\n",
       "      <td>a</td>\n",
       "      <td>2022-01-30 00:02:21+00:00</td>\n",
       "      <td>0.5</td>\n",
       "      <td>26.0</td>\n",
       "      <td>42.0</td>\n",
       "      <td>3.9e-02</td>\n",
       "    </tr>\n",
       "    <tr>\n",
       "      <th>2</th>\n",
       "      <td>3499</td>\n",
       "      <td>41.9</td>\n",
       "      <td>-87.7</td>\n",
       "      <td>Ukrainian Village</td>\n",
       "      <td>a</td>\n",
       "      <td>2022-01-30 00:04:22+00:00</td>\n",
       "      <td>0.0</td>\n",
       "      <td>26.0</td>\n",
       "      <td>42.0</td>\n",
       "      <td>7.2e-02</td>\n",
       "    </tr>\n",
       "    <tr>\n",
       "      <th>3</th>\n",
       "      <td>3499</td>\n",
       "      <td>41.9</td>\n",
       "      <td>-87.7</td>\n",
       "      <td>Ukrainian Village</td>\n",
       "      <td>a</td>\n",
       "      <td>2022-01-30 00:06:21+00:00</td>\n",
       "      <td>0.6</td>\n",
       "      <td>26.0</td>\n",
       "      <td>42.0</td>\n",
       "      <td>1.1e-01</td>\n",
       "    </tr>\n",
       "    <tr>\n",
       "      <th>4</th>\n",
       "      <td>3499</td>\n",
       "      <td>41.9</td>\n",
       "      <td>-87.7</td>\n",
       "      <td>Ukrainian Village</td>\n",
       "      <td>a</td>\n",
       "      <td>2022-01-30 00:08:21+00:00</td>\n",
       "      <td>0.0</td>\n",
       "      <td>26.0</td>\n",
       "      <td>42.0</td>\n",
       "      <td>1.4e-01</td>\n",
       "    </tr>\n",
       "  </tbody>\n",
       "</table>\n",
       "</div>"
      ],
      "text/plain": [
       "   sensorID  latitude  longitude               name channel  \\\n",
       "0      3499      41.9      -87.7  Ukrainian Village       a   \n",
       "1      3499      41.9      -87.7  Ukrainian Village       a   \n",
       "2      3499      41.9      -87.7  Ukrainian Village       a   \n",
       "3      3499      41.9      -87.7  Ukrainian Village       a   \n",
       "4      3499      41.9      -87.7  Ukrainian Village       a   \n",
       "\n",
       "                   datetime  pm25  temp    rh  hours_elapsed  \n",
       "0 2022-01-30 00:00:22+00:00   0.0  26.0  42.0        5.8e-03  \n",
       "1 2022-01-30 00:02:21+00:00   0.5  26.0  42.0        3.9e-02  \n",
       "2 2022-01-30 00:04:22+00:00   0.0  26.0  42.0        7.2e-02  \n",
       "3 2022-01-30 00:06:21+00:00   0.6  26.0  42.0        1.1e-01  \n",
       "4 2022-01-30 00:08:21+00:00   0.0  26.0  42.0        1.4e-01  "
      ]
     },
     "execution_count": 58,
     "metadata": {},
     "output_type": "execute_result"
    }
   ],
   "source": [
    "df = pd.read_csv('../data/chicago_data.csv', index_col = 0)\n",
    "df['datetime'] = pd.to_datetime(df['datetime'])\n",
    "df['hours_elapsed'] = (df['datetime'] - min_time) / timedelta(hours = 1)\n",
    "df.head()"
   ]
  },
  {
   "cell_type": "markdown",
   "id": "c572b856",
   "metadata": {},
   "source": [
    "### Cleaning data"
   ]
  },
  {
   "cell_type": "markdown",
   "id": "e4c30435",
   "metadata": {},
   "source": [
    "Let us first check for missing data. We expect there to be a lot of missing data in the `b` channels, as there the temperature and relative humidity columns are not actually what they're labelled (see [here](https://docs.google.com/document/d/15ijz94dXJ-YAZLi9iZ_RaBwrZ4KtYeCy08goGBwnbCU/) for details). We will be keeping the `a` channel's measurements of those two variables."
   ]
  },
  {
   "cell_type": "code",
   "execution_count": 38,
   "id": "3ec867f0",
   "metadata": {},
   "outputs": [
    {
     "data": {
      "text/plain": [
       "Studio Gang                700\n",
       "La Paz - Dickens (Roof)    700\n",
       "Name: name, dtype: int64"
      ]
     },
     "execution_count": 38,
     "metadata": {},
     "output_type": "execute_result"
    }
   ],
   "source": [
    "df_ch_a_missing = df[df['channel'] == 'a'][df[df['channel'] == 'a'].isnull().any(axis = 1)]\n",
    "df_ch_a_missing['name'].value_counts()"
   ]
  },
  {
   "cell_type": "markdown",
   "id": "94f8b2b9",
   "metadata": {},
   "source": [
    "### Exploratory visualization"
   ]
  },
  {
   "cell_type": "code",
   "execution_count": 68,
   "id": "8a4f1970",
   "metadata": {},
   "outputs": [
    {
     "data": {
      "image/png": "[encoded data removed]",
      "text/plain": [
       "<Figure size 432x288 with 1 Axes>"
      ]
     },
     "metadata": {
      "needs_background": "light"
     },
     "output_type": "display_data"
    }
   ],
   "source": [
    "sensor_ids = df['sensorID'].unique()\n",
    "\n",
    "ax = sns.lineplot(data = df[df['sensorID'] == sensor_ids[9]], x = 'hours_elapsed', y = 'pm25', hue = 'channel');"
   ]
  }
 ],
 "metadata": {
  "kernelspec": {
   "display_name": "Python 3 (ipykernel)",
   "language": "python",
   "name": "python3"
  },
  "language_info": {
   "codemirror_mode": {
    "name": "ipython",
    "version": 3
   },
   "file_extension": ".py",
   "mimetype": "text/x-python",
   "name": "python",
   "nbconvert_exporter": "python",
   "pygments_lexer": "ipython3",
   "version": "3.9.7"
  }
 },
 "nbformat": 4,
 "nbformat_minor": 5
}
